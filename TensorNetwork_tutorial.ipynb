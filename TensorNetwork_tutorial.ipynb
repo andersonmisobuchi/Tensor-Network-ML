{
 "cells": [
  {
   "cell_type": "markdown",
   "metadata": {},
   "source": [
    "This tutorial follows \n",
    "\n",
    "https://github.com/The-Singularity-Research/TensorNetwork-Tutorial\n",
    "\n",
    "which is based on the TensorNetwork documentation\n",
    "\n",
    "https://tensornetwork.readthedocs.io/en/latest/tutorial.html"
   ]
  },
  {
   "cell_type": "code",
   "execution_count": 1,
   "metadata": {},
   "outputs": [
    {
     "name": "stdout",
     "output_type": "stream",
     "text": [
      "Requirement already satisfied: tensornetwork in /home/andersm3/miniconda3/lib/python3.7/site-packages (0.4.0)\n",
      "Requirement already satisfied: jax in /home/andersm3/miniconda3/lib/python3.7/site-packages (0.1.69)\n",
      "Requirement already satisfied: jaxlib in /home/andersm3/miniconda3/lib/python3.7/site-packages (0.1.47)\n",
      "Requirement already satisfied: numpy>=1.17 in /home/andersm3/miniconda3/lib/python3.7/site-packages (from tensornetwork) (1.18.1)\n",
      "Requirement already satisfied: h5py>=2.9.0 in /home/andersm3/miniconda3/lib/python3.7/site-packages (from tensornetwork) (2.10.0)\n",
      "Requirement already satisfied: opt-einsum>=2.3.0 in /home/andersm3/miniconda3/lib/python3.7/site-packages (from tensornetwork) (3.1.0)\n",
      "Requirement already satisfied: graphviz>=0.11.1 in /home/andersm3/miniconda3/lib/python3.7/site-packages (from tensornetwork) (0.14)\n",
      "Requirement already satisfied: scipy>=1.1 in /home/andersm3/miniconda3/lib/python3.7/site-packages (from tensornetwork) (1.4.1)\n",
      "Requirement already satisfied: absl-py in /home/andersm3/miniconda3/lib/python3.7/site-packages (from jax) (0.9.0)\n",
      "Requirement already satisfied: six in /home/andersm3/miniconda3/lib/python3.7/site-packages (from h5py>=2.9.0->tensornetwork) (1.14.0)\n"
     ]
    }
   ],
   "source": [
    "!pip install tensornetwork jax jaxlib"
   ]
  },
  {
   "cell_type": "code",
   "execution_count": 2,
   "metadata": {},
   "outputs": [],
   "source": [
    "import numpy as np\n",
    "import jax\n",
    "import tensornetwork as tn"
   ]
  },
  {
   "cell_type": "markdown",
   "metadata": {},
   "source": [
    "## Nodes and edges"
   ]
  },
  {
   "cell_type": "markdown",
   "metadata": {},
   "source": [
    "Nodes represent the tensor in the network. Axes correspond to edges. A rank 2-tensor can be graphically represented by a node with two \"dangling\" edges (unconnected edges)\n",
    "\n",
    "$ -\\bullet - \\ \\ = \\begin{pmatrix} 1 & 0 \\\\ 0 & 1 \\end{pmatrix}$"
   ]
  },
  {
   "cell_type": "code",
   "execution_count": 3,
   "metadata": {},
   "outputs": [
    {
     "name": "stdout",
     "output_type": "stream",
     "text": [
      "[[1. 0.]\n",
      " [0. 1.]]\n"
     ]
    }
   ],
   "source": [
    "node = tn.Node(np.eye(2))\n",
    "print(node.tensor) # This is how you access the underlying tensor."
   ]
  },
  {
   "cell_type": "code",
   "execution_count": 4,
   "metadata": {},
   "outputs": [
    {
     "name": "stdout",
     "output_type": "stream",
     "text": [
      "[\n",
      "Edge(Dangling Edge)[0] \n",
      ", \n",
      "Edge(Dangling Edge)[1] \n",
      "]\n"
     ]
    }
   ],
   "source": [
    "print(node.edges) # The tensor contains two dangling edges"
   ]
  },
  {
   "cell_type": "code",
   "execution_count": 5,
   "metadata": {},
   "outputs": [
    {
     "data": {
      "text/plain": [
       "\n",
       "Edge(Dangling Edge)[1] "
      ]
     },
     "execution_count": 5,
     "metadata": {},
     "output_type": "execute_result"
    }
   ],
   "source": [
    "# Create three rank 2-tensors a,b, and c\n",
    "a = tn.Node(np.eye(2))\n",
    "b = tn.Node(np.eye(2))\n",
    "c = tn.Node(np.eye(2))\n",
    "# Dangling edges are automatically created at node creation.\n",
    "# We can access the edge a[1] in this way\n",
    "a.get_edge(1)"
   ]
  },
  {
   "cell_type": "markdown",
   "metadata": {},
   "source": [
    "Let us create a standard edge by connecting two dangling edges. We call them \"standard edges\". Below we create a connected edge between the two nodes for $a$ and $b$ by connecting $a[0]$ and $b[0]$:\n",
    "\n",
    "$-\\bullet - \\bullet -$"
   ]
  },
  {
   "cell_type": "code",
   "execution_count": 6,
   "metadata": {},
   "outputs": [
    {
     "data": {
      "text/plain": [
       "\n",
       "Edge('__unnamed_node__'[0] -> '__unnamed_node__'[0] )"
      ]
     },
     "execution_count": 6,
     "metadata": {},
     "output_type": "execute_result"
    }
   ],
   "source": [
    "a[0] ^ b[0] # Standard edge. Same as tn.connect(a[0], b[0])"
   ]
  },
  {
   "cell_type": "markdown",
   "metadata": {},
   "source": [
    "A third type of edge is a trace edge. They connect a node to itself. Operationally, this corresponds to take the trace of the matrix formed by two associated axes. For example, let us create a node with a loop by connecting the two edges $c[0]$ and $c[1]$ of the tensor node $c$"
   ]
  },
  {
   "cell_type": "code",
   "execution_count": 7,
   "metadata": {},
   "outputs": [
    {
     "data": {
      "text/plain": [
       "\n",
       "Edge('__unnamed_node__'[0] -> '__unnamed_node__'[1] )"
      ]
     },
     "execution_count": 7,
     "metadata": {},
     "output_type": "execute_result"
    }
   ],
   "source": [
    "c[0] ^ c[1] # Trace edge. Connect a node to itself"
   ]
  },
  {
   "cell_type": "markdown",
   "metadata": {},
   "source": [
    "## Inner product (contraction)"
   ]
  },
  {
   "cell_type": "markdown",
   "metadata": {},
   "source": [
    "Each vector is represented as a node with one \"dangling\" edge\n",
    "\n",
    "$ a = \\begin{pmatrix} 1. \\\\ 2. \\\\ 3. \\end{pmatrix}\\ \\  = \\quad \\bullet- \\quad$\n",
    "$ b = \\begin{pmatrix} 4. \\\\ 5. \\\\ 6. \\end{pmatrix}\\ \\  = \\quad \\bullet- \\quad$\n",
    "\n",
    "Connecting the dangling edge of the vectors $\\mathbf{a}$ and $\\mathbf{b}$ gives an inner product when the edge is contracted.\n",
    "\n",
    "$ c = \\langle a, b \\rangle = \\sum_{i = 0}^2 a_ib_i = 1\\cdot 4 +2\\cdot 4 + 3\\cdot 6 = 32$"
   ]
  },
  {
   "cell_type": "code",
   "execution_count": 8,
   "metadata": {},
   "outputs": [
    {
     "name": "stdout",
     "output_type": "stream",
     "text": [
      "a = [1. 2. 3.]\n",
      "b = [4. 5. 6.]\n",
      "Contraction = 32.0\n"
     ]
    }
   ],
   "source": [
    "# Either tensorflow tensors or numpy arrays are fine.\n",
    "a = tn.Node(np.array([1., 2., 3.]))\n",
    "b = tn.Node(np.array([4., 5., 6.]))\n",
    "\n",
    "edge1 = a[0] ^ b[0] # = tn.connect(a[0], c[0])\n",
    "\n",
    "c = tn.contract(edge1) # In this case, contraction gives inner product\n",
    "# You can access the underlying tensor of the node via `node.tensor`\n",
    "print(\"a = \" + str(a.tensor))\n",
    "print(\"b = \" + str(b.tensor))\n",
    "\n",
    "print(\"Contraction = \" + str(c.tensor))"
   ]
  },
  {
   "cell_type": "markdown",
   "metadata": {},
   "source": [
    "## Visualization using Networkx\n",
    "\n",
    "https://networkx.github.io/"
   ]
  },
  {
   "cell_type": "code",
   "execution_count": 9,
   "metadata": {},
   "outputs": [
    {
     "name": "stdout",
     "output_type": "stream",
     "text": [
      "Requirement already satisfied: networkx in /home/andersm3/miniconda3/lib/python3.7/site-packages (2.4)\r\n",
      "Requirement already satisfied: decorator>=4.3.0 in /home/andersm3/miniconda3/lib/python3.7/site-packages (from networkx) (4.4.2)\r\n"
     ]
    }
   ],
   "source": [
    "!pip install networkx"
   ]
  },
  {
   "cell_type": "code",
   "execution_count": 10,
   "metadata": {},
   "outputs": [],
   "source": [
    "import networkx as nx\n",
    "import matplotlib.pyplot as plt"
   ]
  },
  {
   "cell_type": "code",
   "execution_count": 14,
   "metadata": {},
   "outputs": [
    {
     "data": {
      "image/png": "[encoded data removed]",
      "text/plain": [
       "<Figure size 432x288 with 1 Axes>"
      ]
     },
     "metadata": {},
     "output_type": "display_data"
    }
   ],
   "source": [
    "G = nx.Graph()\n",
    "G.add_nodes_from([\"a\", \"b\"])\n",
    "G.add_edge(\"a\", \"b\")\n",
    "\n",
    "plt.plot()\n",
    "nx.draw(G, with_labels=True, font_weight='bold')\n",
    "plt.show()"
   ]
  },
  {
   "cell_type": "markdown",
   "metadata": {},
   "source": [
    "## More general contractions"
   ]
  },
  {
   "cell_type": "code",
   "execution_count": 15,
   "metadata": {},
   "outputs": [
    {
     "data": {
      "text/plain": [
       "(2, 3, 2)"
      ]
     },
     "execution_count": 15,
     "metadata": {},
     "output_type": "execute_result"
    }
   ],
   "source": [
    "# Create a 2x3x2 array\n",
    "T = np.array( [ [[1,2],[3,4],[5,6]] , [[1,2],[3,4],[5,6]] ]) \n",
    "T.shape"
   ]
  },
  {
   "cell_type": "markdown",
   "metadata": {},
   "source": [
    "The tensor $T_{i,j,k}$ is a rank $3$ tensor represented as a $2 \\times 3 \\times 2$ numpy array: \n",
    "\n",
    "$T = \\begin{pmatrix} \\begin{pmatrix} 1 & 2 \\\\ 3 & 4 \\\\ 5 & 6 \\end{pmatrix} \\\\ \\begin{pmatrix} 1 & 2 \\\\ 3 & 4 \\\\ 5 & 6 \\end{pmatrix}  \\end{pmatrix}$\n",
    "\n",
    "The indices $i$ and $k$ range over the index set $\\{1,2\\}$, and the index $j$ ranges over $\\{1,2,3\\}$. The tensor $T$ can be represented as a node with three dangling edges $T[0], T[1],$ and $T[2]$. The edge $T[1]$ correspnds to the index $j$ and can be connected to a dangling edge of the vector\n",
    "\n",
    "$U = \\begin{pmatrix}1 \\\\ 1 \\\\ 1 \\end{pmatrix}$\n",
    "\n",
    "Connecting the dangling edge of $\\mathbf{U}$ to the dangling edge of $T$ gives a contraction:\n",
    "\n",
    "$ \\sum_{j = 0}^2 T_{i,j,k}U_j = \\quad \\begin{pmatrix} 9 & 12 \\\\ 9 & 12 \\end{pmatrix}$"
   ]
  },
  {
   "cell_type": "code",
   "execution_count": 18,
   "metadata": {},
   "outputs": [
    {
     "name": "stdout",
     "output_type": "stream",
     "text": [
      "U :\n",
      "[1. 1. 1.]\n",
      "-------------------\n",
      "T :\n",
      "[[[1 2]\n",
      "  [3 4]\n",
      "  [5 6]]\n",
      "\n",
      " [[1 2]\n",
      "  [3 4]\n",
      "  [5 6]]]\n",
      "-------------------\n",
      "S :\n",
      "[[ 9. 12.]\n",
      " [ 9. 12.]]\n"
     ]
    }
   ],
   "source": [
    "T = tn.Node(T) # three edge tensor node\n",
    "\n",
    "U = tn.Node(np.ones(3)) # 3-dimensional vector\n",
    "\n",
    "edge = U[0] ^ T[1] # connect edge of U to edge T[1] of T\n",
    "\n",
    "# Inner product sums along the 3 indices of T[1] and u[0]\n",
    "# This gives a 2-by-2 matrix S by contracting the edge T[0]\n",
    "S = tn.contract(edge) \n",
    "\n",
    "print(\"U :\")\n",
    "print(U.tensor)\n",
    "print(\"-------------------\")\n",
    "print(\"T :\")\n",
    "print(T.tensor)\n",
    "print(\"-------------------\")\n",
    "print(\"S :\")\n",
    "print(S.tensor)"
   ]
  },
  {
   "cell_type": "code",
   "execution_count": 19,
   "metadata": {},
   "outputs": [
    {
     "name": "stdout",
     "output_type": "stream",
     "text": [
      "U = [1. 1. 1.]\n",
      "-------------------\n",
      "V = [1. 1.]\n",
      "-------------------\n",
      "W = [1. 1.]\n",
      "-------------------\n",
      "X = [[ 9. 12.]\n",
      " [ 9. 12.]]\n",
      "-------------------\n",
      "Y = [1. 1.]\n",
      "-------------------\n",
      "Z = 42.0\n"
     ]
    }
   ],
   "source": [
    "T = np.array( [ [[1,2],[3,4],[5,6]] , [[1,2],[3,4],[5,6]] ]) #2-by-3-by-2 array\n",
    "T = tn.Node(T) # three edge tensor node\n",
    "\n",
    "U = tn.Node(np.ones(3)) # 3-dimensional vector\n",
    "V = tn.Node(np.ones(2)) # 3-dimensional vector\n",
    "W = tn.Node(np.ones(2)) # 3-dimensional vector\n",
    "\n",
    "edge1 = U[0] ^ T[1] # connect edge of U to edge T[1] of T\n",
    "edge2 = V[0] ^ T[0] # connect edge of V to edge T[0] of T\n",
    "edge3 = W[0] ^ T[2] # connect edge of W to edge T[2] of T\n",
    "\n",
    "X = tn.contract(edge1)\n",
    "Y = tn.contract(edge2)\n",
    "Z = tn.contract(edge3)\n",
    "\n",
    "print(\"U = \" + str(U.tensor))\n",
    "print(\"-------------------\")\n",
    "print(\"V = \" + str(V.tensor))\n",
    "print(\"-------------------\")\n",
    "print(\"W = \" + str(W.tensor))\n",
    "print(\"-------------------\")\n",
    "print(\"X = \" + str(X.tensor))\n",
    "print(\"-------------------\")\n",
    "print(\"Y = \" + str(W.tensor))\n",
    "print(\"-------------------\")\n",
    "print(\"Z = \" + str(Z.tensor))"
   ]
  },
  {
   "cell_type": "markdown",
   "metadata": {},
   "source": [
    "We can visualize the rank $3$-tensor $T$ with networkX (see below) as a node labeled $\"T\"$ with three edges. Connecting the three edges of $T$ to the dangling edges of the vectors $U,V,W$ gives us a graph with three contractible edges. The first contraction reduces the rank three tensor to a $2 \\times 2$ matrix. The second contraction yields a two-dimensional vector. The final contraction yields a scalar\n",
    "\n",
    "$X = \\sum_{j = 0}^2 T_{i,j,k}U_j = \\begin{pmatrix} 9 & 12 \\\\ 9 & 12 \\end{pmatrix}$\n",
    "\n",
    "$Y = \\sum_{i = 0}^1 X_{i, k} V_i \\ = \\ \\begin{pmatrix} 1 & 1\\end{pmatrix}$\n",
    "\n",
    "$Z = \\sum_{k = 0}^1 Y_k W_k \\ = \\ 42$"
   ]
  },
  {
   "cell_type": "code",
   "execution_count": 20,
   "metadata": {
    "scrolled": true
   },
   "outputs": [
    {
     "data": {
      "image/png": "[encoded data removed]",
      "text/plain": [
       "<Figure size 432x288 with 1 Axes>"
      ]
     },
     "metadata": {},
     "output_type": "display_data"
    }
   ],
   "source": [
    "H = nx.Graph()\n",
    "H.add_nodes_from([\"T\",\"U\",\"V\",\"W\"])\n",
    "H.add_edge(\"T\", \"U\")\n",
    "H.add_edge(\"T\", \"V\")\n",
    "H.add_edge(\"T\", \"W\")\n",
    "\n",
    "plt.plot()\n",
    "nx.draw(H, with_labels=True, font_weight='bold')\n",
    "plt.show()"
   ]
  },
  {
   "cell_type": "code",
   "execution_count": 21,
   "metadata": {},
   "outputs": [
    {
     "data": {
      "image/png": "[encoded data removed]",
      "text/plain": [
       "<Figure size 432x288 with 1 Axes>"
      ]
     },
     "metadata": {},
     "output_type": "display_data"
    }
   ],
   "source": [
    "H = nx.Graph()\n",
    "H.add_nodes_from([\"TU\",\"V\",\"W\"])\n",
    "H.add_edge(\"TU\", \"V\")\n",
    "H.add_edge(\"TU\", \"W\")\n",
    "\n",
    "plt.plot()\n",
    "nx.draw(H, with_labels=True, font_weight='bold')\n",
    "plt.show()"
   ]
  },
  {
   "cell_type": "code",
   "execution_count": 22,
   "metadata": {
    "scrolled": true
   },
   "outputs": [
    {
     "data": {
      "image/png": "[encoded data removed]",
      "text/plain": [
       "<Figure size 432x288 with 1 Axes>"
      ]
     },
     "metadata": {},
     "output_type": "display_data"
    }
   ],
   "source": [
    "H = nx.Graph()\n",
    "H.add_nodes_from([\"TUV\",\"W\"])\n",
    "H.add_edge(\"TUV\", \"W\")\n",
    "\n",
    "plt.plot()\n",
    "nx.draw(H, with_labels=True, font_weight='bold')\n",
    "plt.show()"
   ]
  },
  {
   "cell_type": "markdown",
   "metadata": {},
   "source": [
    "## Trace operation "
   ]
  },
  {
   "cell_type": "code",
   "execution_count": 23,
   "metadata": {},
   "outputs": [
    {
     "name": "stdout",
     "output_type": "stream",
     "text": [
      "The type of a[0] is: <class 'tensornetwork.network_components.Edge'>\n",
      "Is a[0] dangling?: True\n",
      "Is a[1] dangling?: True\n"
     ]
    }
   ],
   "source": [
    "# Creates a rank 2-tensor with dangling edges a[0] and a[1]\n",
    "a = tn.Node(np.eye(2))\n",
    "\n",
    "print(\"The type of a[0] is:\", type(a[0]))\n",
    "print(\"Is a[0] dangling?:\", a[0].is_dangling())\n",
    "print(\"Is a[1] dangling?:\", a[1].is_dangling())"
   ]
  },
  {
   "cell_type": "code",
   "execution_count": 24,
   "metadata": {
    "scrolled": true
   },
   "outputs": [
    {
     "name": "stdout",
     "output_type": "stream",
     "text": [
      "Is a[0] dangling?: False\n",
      "Is a[1] dangling?: False\n",
      "Are a[0] and a[1] the same edge?: True\n"
     ]
    }
   ],
   "source": [
    "# Create an edge that connects the tensor a to itself\n",
    "trace_edge = a[0] ^ a[1]\n",
    "\n",
    "# Notice now that a[0] and a[1] are now the same edge\n",
    "print(\"Is a[0] dangling?:\", a[0].is_dangling())\n",
    "print(\"Is a[1] dangling?:\", a[1].is_dangling())\n",
    "print(\"Are a[0] and a[1] the same edge?:\", a[0] is a[1])"
   ]
  },
  {
   "cell_type": "markdown",
   "metadata": {},
   "source": [
    "## Optimized Contractions\n",
    "At intermediate states of a computation, it’s very common for two nodes to have multiple edges connecting them. If only one of those edges is contracted, then all of the remaining edges become trace edges. This is usually very inefficient, as the new node will allocate significantly more memory than is ultimately required. Since trace edges only sum the diagonal of the underlying matrix, all of the other values calculated during the first contraction are useless. It is always more efficient to contract all of these edges simultaneously.\n",
    "\n",
    "The methods contract_between or contract_parallel will do this for you automatically. You should see huge speedups when comparing these methods against contracting one edge at a time."
   ]
  },
  {
   "cell_type": "code",
   "execution_count": 25,
   "metadata": {},
   "outputs": [
    {
     "name": "stdout",
     "output_type": "stream",
     "text": [
      "Running one_edge_at_a_time\n",
      "34.3 ms ± 7.75 ms per loop (mean ± std. dev. of 7 runs, 10 loops each)\n",
      "Running use_contract_between\n",
      "5.36 ms ± 336 µs per loop (mean ± std. dev. of 7 runs, 100 loops each)\n"
     ]
    }
   ],
   "source": [
    "def one_edge_at_a_time(a, b):\n",
    "  node1 = tn.Node(a)\n",
    "  node2 = tn.Node(b)\n",
    "  edge1 = node1[0] ^ node2[0]\n",
    "  edge2 = node1[1] ^ node2[1]\n",
    "  tn.contract(edge1)\n",
    "  result = tn.contract(edge2)\n",
    "  return result.tensor\n",
    "\n",
    "def use_contract_between(a, b):\n",
    "  node1 = tn.Node(a)\n",
    "  node2 = tn.Node(b)\n",
    "  node1[0] ^ node2[0]\n",
    "  node1[1] ^ node2[1]\n",
    "  # This is the same as\n",
    "  # tn.contract_between(node1, node2)\n",
    "  result = node1 @ node2\n",
    "  return result.tensor\n",
    "\n",
    "a = np.ones((1000, 1000))\n",
    "b = np.ones((1000, 1000))\n",
    "\n",
    "print(\"Running one_edge_at_a_time\")\n",
    "%timeit one_edge_at_a_time(a, b)\n",
    "print(\"Running use_contract_between\")\n",
    "%timeit use_contract_between(a, b)"
   ]
  },
  {
   "cell_type": "markdown",
   "metadata": {},
   "source": [
    "## Axis naming\n",
    "Sometimes, using the axis number is very inconvient and it can be hard to keep track of the purpose of certain edges. To make it easier, you can optionally add a name to each of the axes of your node. Then you can get the respective edge by indexing using the name instead of the number."
   ]
  },
  {
   "cell_type": "code",
   "execution_count": 26,
   "metadata": {},
   "outputs": [
    {
     "name": "stdout",
     "output_type": "stream",
     "text": [
      "4.0\n"
     ]
    }
   ],
   "source": [
    "# Here, a[0] is a['alpha'] and a[1] is a['beta']\n",
    "a = tn.Node(np.eye(4), axis_names=['alpha', 'beta'])\n",
    "edge = a['alpha'] ^ a['beta']\n",
    "result = tn.contract(edge)\n",
    "print(result.tensor)"
   ]
  },
  {
   "cell_type": "markdown",
   "metadata": {},
   "source": [
    "This is equivalent to computing the trace of the matrix \n",
    "\n",
    "$\\mathbf{a} = \\begin{pmatrix} 1 & 0 & 0 & 0\\\\ 0 & 1 & 0 & 0\\\\ 0 & 0 & 1 & 0\\\\ 0 & 0 & 0 & 1 \\end{pmatrix}$ \n",
    "\n",
    "and is represented graphically by connecting the two dangling edges of the node for $\\mathbf{a}$ to create a loop, then contracting the loop to obtain a node with no edges, representing the scalar value given by the trace, $\\text{Tr }(\\mathbf{a}) = \\sum_{i=0}^3 a_{ii} = 4$."
   ]
  },
  {
   "cell_type": "markdown",
   "metadata": {},
   "source": [
    "## Advanced Network Contractions"
   ]
  },
  {
   "cell_type": "code",
   "execution_count": 27,
   "metadata": {},
   "outputs": [],
   "source": [
    "#Here, we will contract four rank 3-tensors as follows:\n",
    "# O - O\n",
    "# | X |\n",
    "# O - O\n",
    "a = tn.Node(np.ones((2, 2, 2)))\n",
    "b = tn.Node(np.ones((2, 2, 2)))\n",
    "c = tn.Node(np.ones((2, 2, 2)))\n",
    "d = tn.Node(np.ones((2, 2, 2)))\n",
    "# Make the network fully connected.\n",
    "a[0] ^ b[0]\n",
    "a[1] ^ c[1]\n",
    "a[2] ^ d[2]\n",
    "b[1] ^ d[1]\n",
    "b[2] ^ c[2]\n",
    "c[0] ^ d[0];"
   ]
  },
  {
   "cell_type": "markdown",
   "metadata": {},
   "source": [
    "We are using the \"greedy\" contraction algorithm.\n",
    "Other algorithms we support include \"optimal\" and \"branch\".\n",
    "\n",
    "Finding the optimal contraction order in the general case is NP-Hard,\n",
    "so there is no single algorithm that will work for every tensor network.\n",
    "However, there are certain kinds of networks that have nice properties that we can exploit to making finding a good contraction order easier.\n",
    "\n",
    "`tn.reachable` will do a BFS to get all of the nodes reachable from a given\n",
    "node or set of nodes.\n",
    "\n",
    "nodes = {a, b, c, d}"
   ]
  },
  {
   "cell_type": "code",
   "execution_count": 28,
   "metadata": {},
   "outputs": [
    {
     "name": "stdout",
     "output_type": "stream",
     "text": [
      "64.0\n"
     ]
    }
   ],
   "source": [
    "nodes = tn.reachable(a)\n",
    "result = tn.contractors.greedy(nodes)\n",
    "print(result.tensor)"
   ]
  },
  {
   "cell_type": "markdown",
   "metadata": {},
   "source": [
    "To make connecting a network a little less verbose, we have included the NCon API aswell.\n",
    "\n",
    "This example is the same as above."
   ]
  },
  {
   "cell_type": "code",
   "execution_count": 29,
   "metadata": {},
   "outputs": [
    {
     "data": {
      "text/plain": [
       "array(64.)"
      ]
     },
     "execution_count": 29,
     "metadata": {},
     "output_type": "execute_result"
    }
   ],
   "source": [
    "ones = np.ones((2, 2, 2))\n",
    "tn.ncon([ones, ones, ones, ones], \n",
    "        [[1, 2, 4], \n",
    "         [1, 3, 5], \n",
    "         [2, 3, 6],\n",
    "         [4, 5, 6]])"
   ]
  },
  {
   "cell_type": "markdown",
   "metadata": {},
   "source": [
    "To specify dangling edges, simply use a negative number on that index."
   ]
  },
  {
   "cell_type": "code",
   "execution_count": 30,
   "metadata": {},
   "outputs": [
    {
     "data": {
      "text/plain": [
       "array([[2., 2.],\n",
       "       [2., 2.]])"
      ]
     },
     "execution_count": 30,
     "metadata": {},
     "output_type": "execute_result"
    }
   ],
   "source": [
    "ones = np.ones((2, 2))\n",
    "tn.ncon([ones, ones], [[-1, 1], [1, -2]])"
   ]
  },
  {
   "cell_type": "markdown",
   "metadata": {},
   "source": [
    "## SVD node splitting method"
   ]
  },
  {
   "cell_type": "markdown",
   "metadata": {},
   "source": [
    "SVD (Singular value decomposition) is used to “split a node”. That is, it takes a single node (of arbitrary order) and splits it into several new nodes. The main method for this is tn.split_node.\n",
    "\n",
    "Split node works by taking the SVD of the matrix $M$ \n",
    "\n",
    "$M = USV^*$\n",
    "\n",
    "and then splitting the $S$ node via a single square root operation. The two $\\sqrt{S}$ nodes are then merged into $U$ and $V^*$, respectively. The final two nodes are returned. The last axis of $U$ and the first axis of $V$ are connected together."
   ]
  },
  {
   "cell_type": "code",
   "execution_count": 31,
   "metadata": {},
   "outputs": [],
   "source": [
    "# To make the singular values very apparent, we will just take the SVD of a\n",
    "# diagonal matrix.\n",
    "diagonal_array = np.array([[2.0, 0.0, 0.0],\n",
    "                           [0.0, 2.5, 0.0],\n",
    "                           [0.0, 0.0, 1.5]]) "
   ]
  },
  {
   "cell_type": "code",
   "execution_count": 32,
   "metadata": {},
   "outputs": [
    {
     "name": "stdout",
     "output_type": "stream",
     "text": [
      "U node: \n",
      "[[0.         1.41421356 0.        ]\n",
      " [1.58113883 0.         0.        ]\n",
      " [0.         0.         1.22474487]]\n",
      "------------------------------------\n",
      "V* node: \n",
      "[[0.         1.58113883 0.        ]\n",
      " [1.41421356 0.         0.        ]\n",
      " [0.         0.         1.22474487]]\n"
     ]
    }
   ],
   "source": [
    "# First, we will go over the simple split_node method.\n",
    "a = tn.Node(diagonal_array)\n",
    "u, vh, _ = tn.split_node(a, left_edges=[a[0]], right_edges=[a[1]])\n",
    "print(\"U node: \")\n",
    "print(u.tensor)\n",
    "print(\"------------------------------------\")\n",
    "print(\"V* node: \")\n",
    "print(vh.tensor)"
   ]
  },
  {
   "cell_type": "code",
   "execution_count": 33,
   "metadata": {},
   "outputs": [
    {
     "name": "stdout",
     "output_type": "stream",
     "text": [
      "Contraction of U and V*:\n",
      "[[2.  0.  0. ]\n",
      " [0.  2.5 0. ]\n",
      " [0.  0.  1.5]]\n"
     ]
    }
   ],
   "source": [
    "# Now, we can contract u and vh to get back our original tensor!\n",
    "print(\"Contraction of U and V*:\")\n",
    "print((u @ vh).tensor)"
   ]
  },
  {
   "cell_type": "markdown",
   "metadata": {},
   "source": [
    "We can also drop the lowest singular values in 2 ways, \n",
    "1. By setting `max_singular_values`. This is the maximum number of the original\n",
    "singular values that we want to keep.\n",
    "2. By setting `max_trun_error`. This is the maximum amount the sum of the removed singular values can be."
   ]
  },
  {
   "cell_type": "code",
   "execution_count": 34,
   "metadata": {},
   "outputs": [
    {
     "name": "stdout",
     "output_type": "stream",
     "text": [
      "[[2.  0.  0. ]\n",
      " [0.  2.5 0. ]\n",
      " [0.  0.  0. ]]\n"
     ]
    }
   ],
   "source": [
    "a = tn.Node(diagonal_array)\n",
    "u, vh, truncation_error = tn.split_node(\n",
    "    a, left_edges=[a[0]], right_edges=[a[1]], max_singular_values=2)\n",
    "# Notice how the two largest singular values (2.0 and 2.5) remain\n",
    "# but the smallest singular value (1.5) is removed.\n",
    "print((u @ vh).tensor)"
   ]
  },
  {
   "cell_type": "markdown",
   "metadata": {},
   "source": [
    "We can see the values of the removed singular values by looking at the returned `truncation_error`"
   ]
  },
  {
   "cell_type": "code",
   "execution_count": 35,
   "metadata": {},
   "outputs": [
    {
     "name": "stdout",
     "output_type": "stream",
     "text": [
      "[1.5]\n"
     ]
    }
   ],
   "source": [
    "# truncation_error is just a normal tensorflow tensor.\n",
    "print(truncation_error)"
   ]
  },
  {
   "cell_type": "code",
   "execution_count": null,
   "metadata": {},
   "outputs": [],
   "source": []
  }
 ],
 "metadata": {
  "kernelspec": {
   "display_name": "Python 3",
   "language": "python",
   "name": "python3"
  },
  "language_info": {
   "codemirror_mode": {
    "name": "ipython",
    "version": 3
   },
   "file_extension": ".py",
   "mimetype": "text/x-python",
   "name": "python",
   "nbconvert_exporter": "python",
   "pygments_lexer": "ipython3",
   "version": "3.7.6"
  }
 },
 "nbformat": 4,
 "nbformat_minor": 4
}
